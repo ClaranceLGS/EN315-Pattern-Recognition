{
 "cells": [
  {
   "cell_type": "markdown",
   "metadata": {},
   "source": [
    "<h1>Homework 02</h1>"
   ]
  },
  {
   "cell_type": "code",
   "execution_count": 1,
   "metadata": {},
   "outputs": [],
   "source": [
    "# Import libraries\n",
    "import seaborn as sns\n",
    "import pandas as pd\n",
    "from sklearn.model_selection import train_test_split\n",
    "from sklearn.preprocessing import LabelEncoder\n",
    "from sklearn.linear_model import LogisticRegression\n",
    "from sklearn.metrics import accuracy_score"
   ]
  },
  {
   "cell_type": "code",
   "execution_count": 12,
   "metadata": {},
   "outputs": [
    {
     "name": "stdout",
     "output_type": "stream",
     "text": [
      "       species  class_encoded\n",
      "0       Adelie              0\n",
      "1       Adelie              0\n",
      "2       Adelie              0\n",
      "4       Adelie              0\n",
      "5       Adelie              0\n",
      "..         ...            ...\n",
      "215  Chinstrap              1\n",
      "216  Chinstrap              1\n",
      "217  Chinstrap              1\n",
      "218  Chinstrap              1\n",
      "219  Chinstrap              1\n",
      "\n",
      "[214 rows x 2 columns]\n"
     ]
    }
   ],
   "source": [
    "# Load the penguins dataset\n",
    "df = sns.load_dataset(\"penguins\")\n",
    "# print(df.head())\n",
    "df.dropna(inplace=True)\n",
    "\n",
    "# Filter rows for 'Adelie' and 'Chinstrap' classes\n",
    "selected_classes = ['Adelie', 'Chinstrap']\n",
    "df_filtered = df[df['species'].isin(selected_classes)].copy()  # Make a copy to avoid the warning\n",
    "\n",
    "# Initialize the LabelEncoder\n",
    "le = LabelEncoder()\n",
    "\n",
    "# Encode the species column\n",
    "y_encoded = le.fit_transform(df_filtered['species'])\n",
    "\n",
    "df_filtered['class_encoded'] = y_encoded\n",
    "# print(df_filtered.head())\n",
    "\n",
    "# Display the filtered and encoded DataFrame\n",
    "print(df_filtered[['species', 'class_encoded']])\n",
    "\n",
    "# Split the data into features (X) and target variable (y)\n",
    "y = df_filtered['class_encoded']  # Target variable\n",
    "X = df_filtered.drop(['species', 'island', 'sex','class_encoded'], axis=1)"
   ]
  },
  {
   "cell_type": "markdown",
   "metadata": {},
   "source": [
    "What is the purpose of \"y_encoded = le.fit_transform(df_filtered['species'])\" ?\n",
    "- To encode the categorical target variable ('species' column in the \"df_filtered\" dataframe) into numerical values."
   ]
  },
  {
   "cell_type": "markdown",
   "metadata": {},
   "source": [
    "What is the purpose of \"X = df.drop(['species', 'island', 'sex'], axis=1)\" ?\n",
    "- To remove certain columns ('species', 'island', 'sex') from the dataframe \"df\" and create a feature matrix 'X'."
   ]
  },
  {
   "cell_type": "markdown",
   "metadata": {},
   "source": [
    "Why we cannot use \"island\" and \"sex\" features?\n",
    "- Because they are categorical features and we need to encode them into numerical values."
   ]
  },
  {
   "cell_type": "code",
   "execution_count": 7,
   "metadata": {},
   "outputs": [],
   "source": [
    "# Split the data into training and testing sets\n",
    "X_train, X_test, y_train, y_test = train_test_split(X, y, test_size=0.2, random_state=42)"
   ]
  },
  {
   "cell_type": "code",
   "execution_count": 8,
   "metadata": {},
   "outputs": [
    {
     "name": "stdout",
     "output_type": "stream",
     "text": [
      "Accuracy: 0.5813953488372093\n",
      "[[ 2.76031248e-03 -8.38966923e-05  4.61499704e-04 -2.86532980e-04]] [-8.53929629e-06]\n"
     ]
    },
    {
     "name": "stderr",
     "output_type": "stream",
     "text": [
      "c:\\Python311\\Lib\\site-packages\\sklearn\\linear_model\\_sag.py:350: ConvergenceWarning: The max_iter was reached which means the coef_ did not converge\n",
      "  warnings.warn(\n"
     ]
    }
   ],
   "source": [
    "# Train the logistic regression model. Here we are using saga solver to learn weights.\n",
    "logreg = LogisticRegression(solver='saga')\n",
    "\n",
    "logreg.fit(X_train, y_train)\n",
    "\n",
    "# Predict on the testing data\n",
    "y_pred = logreg.predict(X_test)\n",
    "\n",
    "# Evaluate the model\n",
    "accuracy = accuracy_score(y_test, y_pred)\n",
    "print(\"Accuracy:\", accuracy)\n",
    "\n",
    "print(logreg.coef_, logreg.intercept_)"
   ]
  },
  {
   "cell_type": "code",
   "execution_count": 14,
   "metadata": {},
   "outputs": [
    {
     "data": {
      "image/png": "[encoded data removed]",
      "text/plain": [
       "<Figure size 800x600 with 1 Axes>"
      ]
     },
     "metadata": {},
     "output_type": "display_data"
    }
   ],
   "source": [
    "import matplotlib.pyplot as plt\n",
    "\n",
    "class_labels = sorted(y.unique())  # Get unique class labels\n",
    "\n",
    "# Count the occurrences of each class\n",
    "class_counts = y.value_counts()\n",
    "\n",
    "# Create a bar plot to visualize the class distribution\n",
    "plt.figure(figsize=(8, 6))\n",
    "plt.bar(class_labels, class_counts)\n",
    "plt.xlabel('Class Labels')\n",
    "plt.ylabel('Count')\n",
    "plt.title('Class Distribution of Target Variable')\n",
    "plt.show()"
   ]
  },
  {
   "cell_type": "markdown",
   "metadata": {},
   "source": [
    " Why is accuracy low? why does the saga solver perform poorly?\n",
    " - Because the dataset is imbalanced. One class significantly outnumbers the other in the target variable, the model may have a bias towards the majority class.\n",
    " - The 'saga' solver is known for handling large datasets. It is not suitable for small datasets."
   ]
  },
  {
   "cell_type": "code",
   "execution_count": 13,
   "metadata": {},
   "outputs": [
    {
     "name": "stdout",
     "output_type": "stream",
     "text": [
      "Accuracy: 1.0\n",
      "[[ 1.5997544  -1.43222015 -0.15123497 -0.00401141]] [-0.07601213]\n"
     ]
    }
   ],
   "source": [
    "# Change the solver to \"liblinear\"\n",
    "logreg = LogisticRegression(solver='liblinear')\n",
    "logreg.fit(X_train, y_train)\n",
    "# Predict on the testing data\n",
    "y_pred = logreg.predict(X_test)\n",
    "\n",
    "# Evaluate the model\n",
    "accuracy = accuracy_score(y_test, y_pred)\n",
    "print(\"Accuracy:\", accuracy)\n",
    "\n",
    "print(logreg.coef_, logreg.intercept_)"
   ]
  },
  {
   "cell_type": "markdown",
   "metadata": {},
   "source": [
    "Why is accuracy now? why does the \"liblinear\" solver perform better than \"saga\" solver ?\n",
    "- The 'liblinear' solver is a good choice for small to medium-sized datasets.\n",
    "- It's a reliable solver for binary and multiclass classification problems which have a moderate amount of data."
   ]
  },
  {
   "cell_type": "code",
   "execution_count": 17,
   "metadata": {},
   "outputs": [
    {
     "name": "stdout",
     "output_type": "stream",
     "text": [
      "Accuracy with saga solver: 0.9767441860465116\n",
      "[[ 3.90444435 -0.8235542   0.18542445 -0.73554556]] [-1.96733388]\n",
      "Accuracy with liblinear solver: 0.9767441860465116\n",
      "[[ 3.77819685 -0.75341497  0.17248526 -0.71597049]] [-1.72205563]\n"
     ]
    }
   ],
   "source": [
    "# Repeat the above tasks after feature normalization and observe the accuracy levels.\n",
    "from sklearn.preprocessing import StandardScaler\n",
    "# Standardize the features\n",
    "scaler = StandardScaler()\n",
    "X_train_scaled = scaler.fit_transform(X_train)\n",
    "X_test_scaled = scaler.transform(X_test)\n",
    "\n",
    "logreg = LogisticRegression(solver='saga')\n",
    "logreg.fit(X_train_scaled, y_train)\n",
    "\n",
    "# Predict on the testing data\n",
    "y_pred_1 = logreg.predict(X_test_scaled)\n",
    "\n",
    "# Evaluate the model\n",
    "accuracy_1 = accuracy_score(y_test, y_pred_1)\n",
    "print(\"Accuracy with saga solver:\", accuracy_1)\n",
    "\n",
    "print(logreg.coef_, logreg.intercept_)\n",
    "\n",
    "logreg = LogisticRegression(solver='liblinear')\n",
    "logreg.fit(X_train_scaled, y_train)\n",
    "\n",
    "# Predict on the testing data\n",
    "y_pred_2 = logreg.predict(X_test_scaled)\n",
    "\n",
    "# Evaluate the model\n",
    "accuracy_2 = accuracy_score(y_test, y_pred_2)\n",
    "print(\"Accuracy with liblinear solver:\", accuracy_2)\n",
    "\n",
    "print(logreg.coef_, logreg.intercept_)\n"
   ]
  },
  {
   "cell_type": "markdown",
   "metadata": {},
   "source": [
    "Now observe the accuracies for both  \"liblinear\" solver and \"saga\" solver. Why accuracy of the \"saga\" solver is increased?\n",
    "- Standardizing (scaling) the features using 'StandardScaler' can help the saga solver converge more effectively and improve the model's performance.\n",
    "- Features with different scales can cause numerical instability, leading to slower convergence or suboptimal solutions. Feature scaling provides enhanced numerical stability and convergence properties."
   ]
  },
  {
   "cell_type": "code",
   "execution_count": 18,
   "metadata": {},
   "outputs": [],
   "source": [
    "# Run the following code to load the dataset again, and use logistic regression for the classification.\n",
    "\n",
    "import seaborn as sns\n",
    "import pandas as pd\n",
    "from sklearn.model_selection import train_test_split\n",
    "from sklearn.preprocessing import LabelEncoder\n",
    "from sklearn.linear_model import LogisticRegression\n",
    "from sklearn.metrics import accuracy_score"
   ]
  },
  {
   "cell_type": "code",
   "execution_count": 22,
   "metadata": {},
   "outputs": [
    {
     "name": "stdout",
     "output_type": "stream",
     "text": [
      "  species     island  bill_length_mm  bill_depth_mm  flipper_length_mm  \\\n",
      "0  Adelie  Torgersen            39.1           18.7              181.0   \n",
      "1  Adelie  Torgersen            39.5           17.4              186.0   \n",
      "2  Adelie  Torgersen            40.3           18.0              195.0   \n",
      "4  Adelie  Torgersen            36.7           19.3              193.0   \n",
      "5  Adelie  Torgersen            39.3           20.6              190.0   \n",
      "\n",
      "   body_mass_g     sex  class_encoded  \n",
      "0       3750.0    Male              0  \n",
      "1       3800.0  Female              0  \n",
      "2       3250.0  Female              0  \n",
      "4       3450.0  Female              0  \n",
      "5       3650.0    Male              0  \n"
     ]
    },
    {
     "data": {
      "text/html": [
       "<div>\n",
       "<style scoped>\n",
       "    .dataframe tbody tr th:only-of-type {\n",
       "        vertical-align: middle;\n",
       "    }\n",
       "\n",
       "    .dataframe tbody tr th {\n",
       "        vertical-align: top;\n",
       "    }\n",
       "\n",
       "    .dataframe thead th {\n",
       "        text-align: right;\n",
       "    }\n",
       "</style>\n",
       "<table border=\"1\" class=\"dataframe\">\n",
       "  <thead>\n",
       "    <tr style=\"text-align: right;\">\n",
       "      <th></th>\n",
       "      <th>island</th>\n",
       "      <th>bill_length_mm</th>\n",
       "      <th>bill_depth_mm</th>\n",
       "      <th>flipper_length_mm</th>\n",
       "      <th>body_mass_g</th>\n",
       "      <th>sex</th>\n",
       "    </tr>\n",
       "  </thead>\n",
       "  <tbody>\n",
       "    <tr>\n",
       "      <th>0</th>\n",
       "      <td>Torgersen</td>\n",
       "      <td>39.1</td>\n",
       "      <td>18.7</td>\n",
       "      <td>181.0</td>\n",
       "      <td>3750.0</td>\n",
       "      <td>Male</td>\n",
       "    </tr>\n",
       "    <tr>\n",
       "      <th>1</th>\n",
       "      <td>Torgersen</td>\n",
       "      <td>39.5</td>\n",
       "      <td>17.4</td>\n",
       "      <td>186.0</td>\n",
       "      <td>3800.0</td>\n",
       "      <td>Female</td>\n",
       "    </tr>\n",
       "    <tr>\n",
       "      <th>2</th>\n",
       "      <td>Torgersen</td>\n",
       "      <td>40.3</td>\n",
       "      <td>18.0</td>\n",
       "      <td>195.0</td>\n",
       "      <td>3250.0</td>\n",
       "      <td>Female</td>\n",
       "    </tr>\n",
       "    <tr>\n",
       "      <th>4</th>\n",
       "      <td>Torgersen</td>\n",
       "      <td>36.7</td>\n",
       "      <td>19.3</td>\n",
       "      <td>193.0</td>\n",
       "      <td>3450.0</td>\n",
       "      <td>Female</td>\n",
       "    </tr>\n",
       "    <tr>\n",
       "      <th>5</th>\n",
       "      <td>Torgersen</td>\n",
       "      <td>39.3</td>\n",
       "      <td>20.6</td>\n",
       "      <td>190.0</td>\n",
       "      <td>3650.0</td>\n",
       "      <td>Male</td>\n",
       "    </tr>\n",
       "  </tbody>\n",
       "</table>\n",
       "</div>"
      ],
      "text/plain": [
       "      island  bill_length_mm  bill_depth_mm  flipper_length_mm  body_mass_g  \\\n",
       "0  Torgersen            39.1           18.7              181.0       3750.0   \n",
       "1  Torgersen            39.5           17.4              186.0       3800.0   \n",
       "2  Torgersen            40.3           18.0              195.0       3250.0   \n",
       "4  Torgersen            36.7           19.3              193.0       3450.0   \n",
       "5  Torgersen            39.3           20.6              190.0       3650.0   \n",
       "\n",
       "      sex  \n",
       "0    Male  \n",
       "1  Female  \n",
       "2  Female  \n",
       "4  Female  \n",
       "5    Male  "
      ]
     },
     "execution_count": 22,
     "metadata": {},
     "output_type": "execute_result"
    }
   ],
   "source": [
    "# Load the penguins dataset\n",
    "df = sns.load_dataset(\"penguins\")\n",
    "\n",
    "df.dropna(inplace=True)\n",
    "\n",
    "# Filter rows for 'Adelie' and 'Chinstrap' classes\n",
    "selected_classes = ['Adelie', 'Chinstrap']\n",
    "df_filtered = df[df['species'].isin(selected_classes)].copy()  # Make a copy to avoid the warning\n",
    "\n",
    "# Initialize the LabelEncoder\n",
    "le = LabelEncoder()\n",
    "\n",
    "# Encode the species column\n",
    "y_encoded = le.fit_transform(df_filtered['species'])\n",
    "df_filtered['class_encoded'] = y_encoded\n",
    "\n",
    "\n",
    "print(df_filtered.head())\n",
    "\n",
    "X = df_filtered.drop(['species', 'class_encoded'], axis=1)  # Choose features\n",
    "y = df_filtered['class_encoded']  # Target variable\n",
    "\n",
    "X.head()"
   ]
  },
  {
   "cell_type": "code",
   "execution_count": 25,
   "metadata": {},
   "outputs": [
    {
     "ename": "ValueError",
     "evalue": "could not convert string to float: 'Dream'",
     "output_type": "error",
     "traceback": [
      "\u001b[1;31m---------------------------------------------------------------------------\u001b[0m",
      "\u001b[1;31mValueError\u001b[0m                                Traceback (most recent call last)",
      "\u001b[1;32m~\\AppData\\Local\\Temp\\ipykernel_12116\\63413540.py\u001b[0m in \u001b[0;36m?\u001b[1;34m()\u001b[0m\n\u001b[0;32m      4\u001b[0m \u001b[0mlogreg\u001b[0m \u001b[1;33m=\u001b[0m \u001b[0mLogisticRegression\u001b[0m\u001b[1;33m(\u001b[0m\u001b[0msolver\u001b[0m\u001b[1;33m=\u001b[0m\u001b[1;34m'saga'\u001b[0m\u001b[1;33m)\u001b[0m\u001b[1;33m\u001b[0m\u001b[1;33m\u001b[0m\u001b[0m\n\u001b[0;32m      5\u001b[0m \u001b[1;31m# logreg = LogisticRegression(max_iter=166, solver='newton-cg')\u001b[0m\u001b[1;33m\u001b[0m\u001b[1;33m\u001b[0m\u001b[0m\n\u001b[0;32m      6\u001b[0m \u001b[1;31m# logreg = LogisticRegression(penalty='l2', C=1.0, solver='lbfgs', max_iter=100, multi_class='ovr', random_state=42)\u001b[0m\u001b[1;33m\u001b[0m\u001b[1;33m\u001b[0m\u001b[0m\n\u001b[0;32m      7\u001b[0m \u001b[1;33m\u001b[0m\u001b[0m\n\u001b[1;32m----> 8\u001b[1;33m \u001b[0mlogreg\u001b[0m\u001b[1;33m.\u001b[0m\u001b[0mfit\u001b[0m\u001b[1;33m(\u001b[0m\u001b[0mX_train\u001b[0m\u001b[1;33m,\u001b[0m \u001b[0my_train\u001b[0m\u001b[1;33m)\u001b[0m\u001b[1;33m\u001b[0m\u001b[1;33m\u001b[0m\u001b[0m\n\u001b[0m\u001b[0;32m      9\u001b[0m \u001b[1;33m\u001b[0m\u001b[0m\n\u001b[0;32m     10\u001b[0m \u001b[1;31m# Predict on the testing data\u001b[0m\u001b[1;33m\u001b[0m\u001b[1;33m\u001b[0m\u001b[0m\n\u001b[0;32m     11\u001b[0m \u001b[0my_pred\u001b[0m \u001b[1;33m=\u001b[0m \u001b[0mlogreg\u001b[0m\u001b[1;33m.\u001b[0m\u001b[0mpredict\u001b[0m\u001b[1;33m(\u001b[0m\u001b[0mX_test\u001b[0m\u001b[1;33m)\u001b[0m\u001b[1;33m\u001b[0m\u001b[1;33m\u001b[0m\u001b[0m\n",
      "\u001b[1;32mc:\\Python311\\Lib\\site-packages\\sklearn\\base.py\u001b[0m in \u001b[0;36m?\u001b[1;34m(estimator, *args, **kwargs)\u001b[0m\n\u001b[0;32m   1147\u001b[0m                 skip_parameter_validation=(\n\u001b[0;32m   1148\u001b[0m                     \u001b[0mprefer_skip_nested_validation\u001b[0m \u001b[1;32mor\u001b[0m \u001b[0mglobal_skip_validation\u001b[0m\u001b[1;33m\u001b[0m\u001b[1;33m\u001b[0m\u001b[0m\n\u001b[0;32m   1149\u001b[0m                 )\n\u001b[0;32m   1150\u001b[0m             ):\n\u001b[1;32m-> 1151\u001b[1;33m                 \u001b[1;32mreturn\u001b[0m \u001b[0mfit_method\u001b[0m\u001b[1;33m(\u001b[0m\u001b[0mestimator\u001b[0m\u001b[1;33m,\u001b[0m \u001b[1;33m*\u001b[0m\u001b[0margs\u001b[0m\u001b[1;33m,\u001b[0m \u001b[1;33m**\u001b[0m\u001b[0mkwargs\u001b[0m\u001b[1;33m)\u001b[0m\u001b[1;33m\u001b[0m\u001b[1;33m\u001b[0m\u001b[0m\n\u001b[0m",
      "\u001b[1;32mc:\\Python311\\Lib\\site-packages\\sklearn\\linear_model\\_logistic.py\u001b[0m in \u001b[0;36m?\u001b[1;34m(self, X, y, sample_weight)\u001b[0m\n\u001b[0;32m   1203\u001b[0m             \u001b[0m_dtype\u001b[0m \u001b[1;33m=\u001b[0m \u001b[0mnp\u001b[0m\u001b[1;33m.\u001b[0m\u001b[0mfloat64\u001b[0m\u001b[1;33m\u001b[0m\u001b[1;33m\u001b[0m\u001b[0m\n\u001b[0;32m   1204\u001b[0m         \u001b[1;32melse\u001b[0m\u001b[1;33m:\u001b[0m\u001b[1;33m\u001b[0m\u001b[1;33m\u001b[0m\u001b[0m\n\u001b[0;32m   1205\u001b[0m             \u001b[0m_dtype\u001b[0m \u001b[1;33m=\u001b[0m \u001b[1;33m[\u001b[0m\u001b[0mnp\u001b[0m\u001b[1;33m.\u001b[0m\u001b[0mfloat64\u001b[0m\u001b[1;33m,\u001b[0m \u001b[0mnp\u001b[0m\u001b[1;33m.\u001b[0m\u001b[0mfloat32\u001b[0m\u001b[1;33m]\u001b[0m\u001b[1;33m\u001b[0m\u001b[1;33m\u001b[0m\u001b[0m\n\u001b[0;32m   1206\u001b[0m \u001b[1;33m\u001b[0m\u001b[0m\n\u001b[1;32m-> 1207\u001b[1;33m         X, y = self._validate_data(\n\u001b[0m\u001b[0;32m   1208\u001b[0m             \u001b[0mX\u001b[0m\u001b[1;33m,\u001b[0m\u001b[1;33m\u001b[0m\u001b[1;33m\u001b[0m\u001b[0m\n\u001b[0;32m   1209\u001b[0m             \u001b[0my\u001b[0m\u001b[1;33m,\u001b[0m\u001b[1;33m\u001b[0m\u001b[1;33m\u001b[0m\u001b[0m\n\u001b[0;32m   1210\u001b[0m             \u001b[0maccept_sparse\u001b[0m\u001b[1;33m=\u001b[0m\u001b[1;34m\"csr\"\u001b[0m\u001b[1;33m,\u001b[0m\u001b[1;33m\u001b[0m\u001b[1;33m\u001b[0m\u001b[0m\n",
      "\u001b[1;32mc:\\Python311\\Lib\\site-packages\\sklearn\\base.py\u001b[0m in \u001b[0;36m?\u001b[1;34m(self, X, y, reset, validate_separately, cast_to_ndarray, **check_params)\u001b[0m\n\u001b[0;32m    617\u001b[0m                 \u001b[1;32mif\u001b[0m \u001b[1;34m\"estimator\"\u001b[0m \u001b[1;32mnot\u001b[0m \u001b[1;32min\u001b[0m \u001b[0mcheck_y_params\u001b[0m\u001b[1;33m:\u001b[0m\u001b[1;33m\u001b[0m\u001b[1;33m\u001b[0m\u001b[0m\n\u001b[0;32m    618\u001b[0m                     \u001b[0mcheck_y_params\u001b[0m \u001b[1;33m=\u001b[0m \u001b[1;33m{\u001b[0m\u001b[1;33m**\u001b[0m\u001b[0mdefault_check_params\u001b[0m\u001b[1;33m,\u001b[0m \u001b[1;33m**\u001b[0m\u001b[0mcheck_y_params\u001b[0m\u001b[1;33m}\u001b[0m\u001b[1;33m\u001b[0m\u001b[1;33m\u001b[0m\u001b[0m\n\u001b[0;32m    619\u001b[0m                 \u001b[0my\u001b[0m \u001b[1;33m=\u001b[0m \u001b[0mcheck_array\u001b[0m\u001b[1;33m(\u001b[0m\u001b[0my\u001b[0m\u001b[1;33m,\u001b[0m \u001b[0minput_name\u001b[0m\u001b[1;33m=\u001b[0m\u001b[1;34m\"y\"\u001b[0m\u001b[1;33m,\u001b[0m \u001b[1;33m**\u001b[0m\u001b[0mcheck_y_params\u001b[0m\u001b[1;33m)\u001b[0m\u001b[1;33m\u001b[0m\u001b[1;33m\u001b[0m\u001b[0m\n\u001b[0;32m    620\u001b[0m             \u001b[1;32melse\u001b[0m\u001b[1;33m:\u001b[0m\u001b[1;33m\u001b[0m\u001b[1;33m\u001b[0m\u001b[0m\n\u001b[1;32m--> 621\u001b[1;33m                 \u001b[0mX\u001b[0m\u001b[1;33m,\u001b[0m \u001b[0my\u001b[0m \u001b[1;33m=\u001b[0m \u001b[0mcheck_X_y\u001b[0m\u001b[1;33m(\u001b[0m\u001b[0mX\u001b[0m\u001b[1;33m,\u001b[0m \u001b[0my\u001b[0m\u001b[1;33m,\u001b[0m \u001b[1;33m**\u001b[0m\u001b[0mcheck_params\u001b[0m\u001b[1;33m)\u001b[0m\u001b[1;33m\u001b[0m\u001b[1;33m\u001b[0m\u001b[0m\n\u001b[0m\u001b[0;32m    622\u001b[0m             \u001b[0mout\u001b[0m \u001b[1;33m=\u001b[0m \u001b[0mX\u001b[0m\u001b[1;33m,\u001b[0m \u001b[0my\u001b[0m\u001b[1;33m\u001b[0m\u001b[1;33m\u001b[0m\u001b[0m\n\u001b[0;32m    623\u001b[0m \u001b[1;33m\u001b[0m\u001b[0m\n\u001b[0;32m    624\u001b[0m         \u001b[1;32mif\u001b[0m \u001b[1;32mnot\u001b[0m \u001b[0mno_val_X\u001b[0m \u001b[1;32mand\u001b[0m \u001b[0mcheck_params\u001b[0m\u001b[1;33m.\u001b[0m\u001b[0mget\u001b[0m\u001b[1;33m(\u001b[0m\u001b[1;34m\"ensure_2d\"\u001b[0m\u001b[1;33m,\u001b[0m \u001b[1;32mTrue\u001b[0m\u001b[1;33m)\u001b[0m\u001b[1;33m:\u001b[0m\u001b[1;33m\u001b[0m\u001b[1;33m\u001b[0m\u001b[0m\n",
      "\u001b[1;32mc:\\Python311\\Lib\\site-packages\\sklearn\\utils\\validation.py\u001b[0m in \u001b[0;36m?\u001b[1;34m(X, y, accept_sparse, accept_large_sparse, dtype, order, copy, force_all_finite, ensure_2d, allow_nd, multi_output, ensure_min_samples, ensure_min_features, y_numeric, estimator)\u001b[0m\n\u001b[0;32m   1143\u001b[0m         raise ValueError(\n\u001b[0;32m   1144\u001b[0m             \u001b[1;34mf\"{estimator_name} requires y to be passed, but the target y is None\"\u001b[0m\u001b[1;33m\u001b[0m\u001b[1;33m\u001b[0m\u001b[0m\n\u001b[0;32m   1145\u001b[0m         )\n\u001b[0;32m   1146\u001b[0m \u001b[1;33m\u001b[0m\u001b[0m\n\u001b[1;32m-> 1147\u001b[1;33m     X = check_array(\n\u001b[0m\u001b[0;32m   1148\u001b[0m         \u001b[0mX\u001b[0m\u001b[1;33m,\u001b[0m\u001b[1;33m\u001b[0m\u001b[1;33m\u001b[0m\u001b[0m\n\u001b[0;32m   1149\u001b[0m         \u001b[0maccept_sparse\u001b[0m\u001b[1;33m=\u001b[0m\u001b[0maccept_sparse\u001b[0m\u001b[1;33m,\u001b[0m\u001b[1;33m\u001b[0m\u001b[1;33m\u001b[0m\u001b[0m\n\u001b[0;32m   1150\u001b[0m         \u001b[0maccept_large_sparse\u001b[0m\u001b[1;33m=\u001b[0m\u001b[0maccept_large_sparse\u001b[0m\u001b[1;33m,\u001b[0m\u001b[1;33m\u001b[0m\u001b[1;33m\u001b[0m\u001b[0m\n",
      "\u001b[1;32mc:\\Python311\\Lib\\site-packages\\sklearn\\utils\\validation.py\u001b[0m in \u001b[0;36m?\u001b[1;34m(array, accept_sparse, accept_large_sparse, dtype, order, copy, force_all_finite, ensure_2d, allow_nd, ensure_min_samples, ensure_min_features, estimator, input_name)\u001b[0m\n\u001b[0;32m    914\u001b[0m                         )\n\u001b[0;32m    915\u001b[0m                     \u001b[0marray\u001b[0m \u001b[1;33m=\u001b[0m \u001b[0mxp\u001b[0m\u001b[1;33m.\u001b[0m\u001b[0mastype\u001b[0m\u001b[1;33m(\u001b[0m\u001b[0marray\u001b[0m\u001b[1;33m,\u001b[0m \u001b[0mdtype\u001b[0m\u001b[1;33m,\u001b[0m \u001b[0mcopy\u001b[0m\u001b[1;33m=\u001b[0m\u001b[1;32mFalse\u001b[0m\u001b[1;33m)\u001b[0m\u001b[1;33m\u001b[0m\u001b[1;33m\u001b[0m\u001b[0m\n\u001b[0;32m    916\u001b[0m                 \u001b[1;32melse\u001b[0m\u001b[1;33m:\u001b[0m\u001b[1;33m\u001b[0m\u001b[1;33m\u001b[0m\u001b[0m\n\u001b[0;32m    917\u001b[0m                     \u001b[0marray\u001b[0m \u001b[1;33m=\u001b[0m \u001b[0m_asarray_with_order\u001b[0m\u001b[1;33m(\u001b[0m\u001b[0marray\u001b[0m\u001b[1;33m,\u001b[0m \u001b[0morder\u001b[0m\u001b[1;33m=\u001b[0m\u001b[0morder\u001b[0m\u001b[1;33m,\u001b[0m \u001b[0mdtype\u001b[0m\u001b[1;33m=\u001b[0m\u001b[0mdtype\u001b[0m\u001b[1;33m,\u001b[0m \u001b[0mxp\u001b[0m\u001b[1;33m=\u001b[0m\u001b[0mxp\u001b[0m\u001b[1;33m)\u001b[0m\u001b[1;33m\u001b[0m\u001b[1;33m\u001b[0m\u001b[0m\n\u001b[1;32m--> 918\u001b[1;33m             \u001b[1;32mexcept\u001b[0m \u001b[0mComplexWarning\u001b[0m \u001b[1;32mas\u001b[0m \u001b[0mcomplex_warning\u001b[0m\u001b[1;33m:\u001b[0m\u001b[1;33m\u001b[0m\u001b[1;33m\u001b[0m\u001b[0m\n\u001b[0m\u001b[0;32m    919\u001b[0m                 raise ValueError(\n\u001b[0;32m    920\u001b[0m                     \u001b[1;34m\"Complex data not supported\\n{}\\n\"\u001b[0m\u001b[1;33m.\u001b[0m\u001b[0mformat\u001b[0m\u001b[1;33m(\u001b[0m\u001b[0marray\u001b[0m\u001b[1;33m)\u001b[0m\u001b[1;33m\u001b[0m\u001b[1;33m\u001b[0m\u001b[0m\n\u001b[0;32m    921\u001b[0m                 ) from complex_warning\n",
      "\u001b[1;32mc:\\Python311\\Lib\\site-packages\\sklearn\\utils\\_array_api.py\u001b[0m in \u001b[0;36m?\u001b[1;34m(array, dtype, order, copy, xp)\u001b[0m\n\u001b[0;32m    376\u001b[0m         \u001b[1;31m# Use NumPy API to support order\u001b[0m\u001b[1;33m\u001b[0m\u001b[1;33m\u001b[0m\u001b[0m\n\u001b[0;32m    377\u001b[0m         \u001b[1;32mif\u001b[0m \u001b[0mcopy\u001b[0m \u001b[1;32mis\u001b[0m \u001b[1;32mTrue\u001b[0m\u001b[1;33m:\u001b[0m\u001b[1;33m\u001b[0m\u001b[1;33m\u001b[0m\u001b[0m\n\u001b[0;32m    378\u001b[0m             \u001b[0marray\u001b[0m \u001b[1;33m=\u001b[0m \u001b[0mnumpy\u001b[0m\u001b[1;33m.\u001b[0m\u001b[0marray\u001b[0m\u001b[1;33m(\u001b[0m\u001b[0marray\u001b[0m\u001b[1;33m,\u001b[0m \u001b[0morder\u001b[0m\u001b[1;33m=\u001b[0m\u001b[0morder\u001b[0m\u001b[1;33m,\u001b[0m \u001b[0mdtype\u001b[0m\u001b[1;33m=\u001b[0m\u001b[0mdtype\u001b[0m\u001b[1;33m)\u001b[0m\u001b[1;33m\u001b[0m\u001b[1;33m\u001b[0m\u001b[0m\n\u001b[0;32m    379\u001b[0m         \u001b[1;32melse\u001b[0m\u001b[1;33m:\u001b[0m\u001b[1;33m\u001b[0m\u001b[1;33m\u001b[0m\u001b[0m\n\u001b[1;32m--> 380\u001b[1;33m             \u001b[0marray\u001b[0m \u001b[1;33m=\u001b[0m \u001b[0mnumpy\u001b[0m\u001b[1;33m.\u001b[0m\u001b[0masarray\u001b[0m\u001b[1;33m(\u001b[0m\u001b[0marray\u001b[0m\u001b[1;33m,\u001b[0m \u001b[0morder\u001b[0m\u001b[1;33m=\u001b[0m\u001b[0morder\u001b[0m\u001b[1;33m,\u001b[0m \u001b[0mdtype\u001b[0m\u001b[1;33m=\u001b[0m\u001b[0mdtype\u001b[0m\u001b[1;33m)\u001b[0m\u001b[1;33m\u001b[0m\u001b[1;33m\u001b[0m\u001b[0m\n\u001b[0m\u001b[0;32m    381\u001b[0m \u001b[1;33m\u001b[0m\u001b[0m\n\u001b[0;32m    382\u001b[0m         \u001b[1;31m# At this point array is a NumPy ndarray. We convert it to an array\u001b[0m\u001b[1;33m\u001b[0m\u001b[1;33m\u001b[0m\u001b[0m\n\u001b[0;32m    383\u001b[0m         \u001b[1;31m# container that is consistent with the input's namespace.\u001b[0m\u001b[1;33m\u001b[0m\u001b[1;33m\u001b[0m\u001b[0m\n",
      "\u001b[1;32mc:\\Python311\\Lib\\site-packages\\pandas\\core\\generic.py\u001b[0m in \u001b[0;36m?\u001b[1;34m(self, dtype)\u001b[0m\n\u001b[0;32m   1996\u001b[0m     \u001b[1;32mdef\u001b[0m \u001b[0m__array__\u001b[0m\u001b[1;33m(\u001b[0m\u001b[0mself\u001b[0m\u001b[1;33m,\u001b[0m \u001b[0mdtype\u001b[0m\u001b[1;33m:\u001b[0m \u001b[0mnpt\u001b[0m\u001b[1;33m.\u001b[0m\u001b[0mDTypeLike\u001b[0m \u001b[1;33m|\u001b[0m \u001b[1;32mNone\u001b[0m \u001b[1;33m=\u001b[0m \u001b[1;32mNone\u001b[0m\u001b[1;33m)\u001b[0m \u001b[1;33m->\u001b[0m \u001b[0mnp\u001b[0m\u001b[1;33m.\u001b[0m\u001b[0mndarray\u001b[0m\u001b[1;33m:\u001b[0m\u001b[1;33m\u001b[0m\u001b[1;33m\u001b[0m\u001b[0m\n\u001b[0;32m   1997\u001b[0m         \u001b[0mvalues\u001b[0m \u001b[1;33m=\u001b[0m \u001b[0mself\u001b[0m\u001b[1;33m.\u001b[0m\u001b[0m_values\u001b[0m\u001b[1;33m\u001b[0m\u001b[1;33m\u001b[0m\u001b[0m\n\u001b[1;32m-> 1998\u001b[1;33m         \u001b[0marr\u001b[0m \u001b[1;33m=\u001b[0m \u001b[0mnp\u001b[0m\u001b[1;33m.\u001b[0m\u001b[0masarray\u001b[0m\u001b[1;33m(\u001b[0m\u001b[0mvalues\u001b[0m\u001b[1;33m,\u001b[0m \u001b[0mdtype\u001b[0m\u001b[1;33m=\u001b[0m\u001b[0mdtype\u001b[0m\u001b[1;33m)\u001b[0m\u001b[1;33m\u001b[0m\u001b[1;33m\u001b[0m\u001b[0m\n\u001b[0m\u001b[0;32m   1999\u001b[0m         if (\n\u001b[0;32m   2000\u001b[0m             \u001b[0mastype_is_view\u001b[0m\u001b[1;33m(\u001b[0m\u001b[0mvalues\u001b[0m\u001b[1;33m.\u001b[0m\u001b[0mdtype\u001b[0m\u001b[1;33m,\u001b[0m \u001b[0marr\u001b[0m\u001b[1;33m.\u001b[0m\u001b[0mdtype\u001b[0m\u001b[1;33m)\u001b[0m\u001b[1;33m\u001b[0m\u001b[1;33m\u001b[0m\u001b[0m\n\u001b[0;32m   2001\u001b[0m             \u001b[1;32mand\u001b[0m \u001b[0musing_copy_on_write\u001b[0m\u001b[1;33m(\u001b[0m\u001b[1;33m)\u001b[0m\u001b[1;33m\u001b[0m\u001b[1;33m\u001b[0m\u001b[0m\n",
      "\u001b[1;31mValueError\u001b[0m: could not convert string to float: 'Dream'"
     ]
    }
   ],
   "source": [
    "# Split the data into training and testing sets\n",
    "X_train, X_test, y_train, y_test = train_test_split(X, y, test_size=0.2, random_state=42)\n",
    "\n",
    "logreg = LogisticRegression(solver='saga')\n",
    "# logreg = LogisticRegression(max_iter=166, solver='newton-cg')\n",
    "# logreg = LogisticRegression(penalty='l2', C=1.0, solver='lbfgs', max_iter=100, multi_class='ovr', random_state=42)\n",
    "\n",
    "logreg.fit(X_train, y_train)\n",
    "\n",
    "# Predict on the testing data\n",
    "y_pred = logreg.predict(X_test)\n",
    "\n",
    "# Evaluate the model\n",
    "accuracy = accuracy_score(y_test, y_pred)\n",
    "print(\"Accuracy:\", accuracy)\n",
    "\n",
    "print(logreg.coef_, logreg.intercept_)"
   ]
  },
  {
   "cell_type": "markdown",
   "metadata": {},
   "source": [
    "What is the problem? Why algorithm cannot perform classification?\n",
    "- The error message \"ValueError: could not convert string to float: 'Dream'\" suggests that the logistic regression model encountered an issue because it cannot directly work with categorical or string data. In dataset, it seems there might be a categorical or non-numeric feature (possibly 'island' and 'sex') that the algorithm cannot use for classification without appropriate preprocessing."
   ]
  },
  {
   "cell_type": "markdown",
   "metadata": {},
   "source": [
    "How to solve this issue?\n",
    "- Need to encode the categorical features into numerical values using 'LabelEncoder' or 'OneHotEncoder' from the 'sklearn.preprocessing' module."
   ]
  },
  {
   "cell_type": "code",
   "execution_count": 26,
   "metadata": {},
   "outputs": [
    {
     "data": {
      "text/html": [
       "<div>\n",
       "<style scoped>\n",
       "    .dataframe tbody tr th:only-of-type {\n",
       "        vertical-align: middle;\n",
       "    }\n",
       "\n",
       "    .dataframe tbody tr th {\n",
       "        vertical-align: top;\n",
       "    }\n",
       "\n",
       "    .dataframe thead th {\n",
       "        text-align: right;\n",
       "    }\n",
       "</style>\n",
       "<table border=\"1\" class=\"dataframe\">\n",
       "  <thead>\n",
       "    <tr style=\"text-align: right;\">\n",
       "      <th></th>\n",
       "      <th>species</th>\n",
       "      <th>bill_length_mm</th>\n",
       "      <th>bill_depth_mm</th>\n",
       "      <th>flipper_length_mm</th>\n",
       "      <th>body_mass_g</th>\n",
       "      <th>class_encoded</th>\n",
       "      <th>island_Dream</th>\n",
       "      <th>island_Torgersen</th>\n",
       "      <th>sex_Male</th>\n",
       "    </tr>\n",
       "  </thead>\n",
       "  <tbody>\n",
       "    <tr>\n",
       "      <th>0</th>\n",
       "      <td>Adelie</td>\n",
       "      <td>39.1</td>\n",
       "      <td>18.7</td>\n",
       "      <td>181.0</td>\n",
       "      <td>3750.0</td>\n",
       "      <td>0</td>\n",
       "      <td>False</td>\n",
       "      <td>True</td>\n",
       "      <td>True</td>\n",
       "    </tr>\n",
       "    <tr>\n",
       "      <th>1</th>\n",
       "      <td>Adelie</td>\n",
       "      <td>39.5</td>\n",
       "      <td>17.4</td>\n",
       "      <td>186.0</td>\n",
       "      <td>3800.0</td>\n",
       "      <td>0</td>\n",
       "      <td>False</td>\n",
       "      <td>True</td>\n",
       "      <td>False</td>\n",
       "    </tr>\n",
       "    <tr>\n",
       "      <th>2</th>\n",
       "      <td>Adelie</td>\n",
       "      <td>40.3</td>\n",
       "      <td>18.0</td>\n",
       "      <td>195.0</td>\n",
       "      <td>3250.0</td>\n",
       "      <td>0</td>\n",
       "      <td>False</td>\n",
       "      <td>True</td>\n",
       "      <td>False</td>\n",
       "    </tr>\n",
       "    <tr>\n",
       "      <th>4</th>\n",
       "      <td>Adelie</td>\n",
       "      <td>36.7</td>\n",
       "      <td>19.3</td>\n",
       "      <td>193.0</td>\n",
       "      <td>3450.0</td>\n",
       "      <td>0</td>\n",
       "      <td>False</td>\n",
       "      <td>True</td>\n",
       "      <td>False</td>\n",
       "    </tr>\n",
       "    <tr>\n",
       "      <th>5</th>\n",
       "      <td>Adelie</td>\n",
       "      <td>39.3</td>\n",
       "      <td>20.6</td>\n",
       "      <td>190.0</td>\n",
       "      <td>3650.0</td>\n",
       "      <td>0</td>\n",
       "      <td>False</td>\n",
       "      <td>True</td>\n",
       "      <td>True</td>\n",
       "    </tr>\n",
       "  </tbody>\n",
       "</table>\n",
       "</div>"
      ],
      "text/plain": [
       "  species  bill_length_mm  bill_depth_mm  flipper_length_mm  body_mass_g  \\\n",
       "0  Adelie            39.1           18.7              181.0       3750.0   \n",
       "1  Adelie            39.5           17.4              186.0       3800.0   \n",
       "2  Adelie            40.3           18.0              195.0       3250.0   \n",
       "4  Adelie            36.7           19.3              193.0       3450.0   \n",
       "5  Adelie            39.3           20.6              190.0       3650.0   \n",
       "\n",
       "   class_encoded  island_Dream  island_Torgersen  sex_Male  \n",
       "0              0         False              True      True  \n",
       "1              0         False              True     False  \n",
       "2              0         False              True     False  \n",
       "4              0         False              True     False  \n",
       "5              0         False              True      True  "
      ]
     },
     "execution_count": 26,
     "metadata": {},
     "output_type": "execute_result"
    }
   ],
   "source": [
    "# Use the following code, to replace string features with numerical ones.\n",
    "df_filtered = pd.get_dummies(df_filtered, columns=['island', 'sex'], drop_first=True)\n",
    "df_filtered.head()"
   ]
  },
  {
   "cell_type": "code",
   "execution_count": 28,
   "metadata": {},
   "outputs": [
    {
     "name": "stdout",
     "output_type": "stream",
     "text": [
      "  species  bill_length_mm  bill_depth_mm  flipper_length_mm  body_mass_g  \\\n",
      "0  Adelie            39.1           18.7              181.0       3750.0   \n",
      "1  Adelie            39.5           17.4              186.0       3800.0   \n",
      "\n",
      "   class_encoded  island_Dream  island_Torgersen  sex_Male  \n",
      "0              0         False              True      True  \n",
      "1              0         False              True     False  \n",
      "   species  bill_length_mm  bill_depth_mm  flipper_length_mm  body_mass_g  \\\n",
      "0   Adelie            39.1           18.7              181.0       3750.0   \n",
      "20  Adelie            37.8           18.3              174.0       3400.0   \n",
      "\n",
      "    class_encoded  island_Dream  island_Torgersen  sex_Male  \n",
      "0               0         False              True      True  \n",
      "20              0         False             False     False  \n",
      "   species  bill_length_mm  bill_depth_mm  flipper_length_mm  body_mass_g  \\\n",
      "0   Adelie            39.1           18.7              181.0       3750.0   \n",
      "30  Adelie            39.5           16.7              178.0       3250.0   \n",
      "\n",
      "    class_encoded  island_Dream  island_Torgersen  sex_Male  \n",
      "0               0         False              True      True  \n",
      "30              0          True             False     False  \n"
     ]
    }
   ],
   "source": [
    "# Use the following code to visualize the encoding\n",
    "samples = df_filtered.groupby('sex_Male').head(1)\n",
    "print(samples)\n",
    "samples = df_filtered.groupby('island_Torgersen').head(1)\n",
    "print(samples)\n",
    "samples = df_filtered.groupby('island_Dream').head(1)\n",
    "print(samples)"
   ]
  },
  {
   "cell_type": "code",
   "execution_count": 29,
   "metadata": {},
   "outputs": [
    {
     "name": "stdout",
     "output_type": "stream",
     "text": [
      "(214, 7) (214,)\n",
      "Accuracy: 1.0\n",
      "[[ 3.63408911  0.16296484  0.62612347  0.10206609  2.59920768 -0.87721649\n",
      "  -0.35906787]] [-5.99579725]\n"
     ]
    }
   ],
   "source": [
    "# Use the following code to apply logistic regression\n",
    "X = df_filtered.drop(['species','class_encoded'], axis=1)\n",
    "\n",
    "y = df_filtered['class_encoded']  # Target variable\n",
    "print(X.shape, y.shape)\n",
    "X.head()\n",
    "\n",
    "# Split the data into training and testing sets\n",
    "X_train, X_test, y_train, y_test = train_test_split(X, y, test_size=0.2, random_state=42)\n",
    "from sklearn.preprocessing import MaxAbsScaler\n",
    "scaler=MaxAbsScaler()\n",
    "X_train_scaled = scaler.fit_transform(X_train)\n",
    "X_test_scaled = scaler.transform(X_test)\n",
    "\n",
    "logreg = LogisticRegression(solver='saga',max_iter=150,)\n",
    "\n",
    "#logreg = LogisticRegression(max_iter=166, solver='newton-cg')\n",
    "# logreg = LogisticRegression(penalty='l2', C=1.0, solver='lbfgs', max_iter=100, multi_class='ovr', random_state=42)\n",
    "logreg.fit(X_train_scaled, y_train)\n",
    "\n",
    "# Predict on the testing data\n",
    "y_pred = logreg.predict(X_test_scaled)\n",
    "\n",
    "# Evaluate the model\n",
    "accuracy = accuracy_score(y_test, y_pred)\n",
    "print(\"Accuracy:\", accuracy)\n",
    "\n",
    "print(logreg.coef_, logreg.intercept_)"
   ]
  },
  {
   "cell_type": "markdown",
   "metadata": {},
   "source": [
    "Why we are using the \"MaxAbsScaler\" scaler rather than the \"StandardScaler\"?\n",
    "- Because the 'MaxAbsScaler' is suitable for data that is already centered at zero or sparse data. It is meant for data that is already centered at zero or sparse data. It does not shift/center the data, and thus does not destroy any sparsity.\n",
    "- MaxAbsScaler is chosen over StandardScaler for binary features like \"island_Dream,\" \"island_Torgersen,\" and \"sex_Male\" to maintain their binary nature and only scale them within the [0, 1] range."
   ]
  },
  {
   "cell_type": "code",
   "execution_count": 32,
   "metadata": {},
   "outputs": [
    {
     "name": "stdout",
     "output_type": "stream",
     "text": [
      "[[0.59655172 0.98139535 0.93396226 0.91666667 0.         1.\n",
      "  1.        ]\n",
      " [0.8862069  0.88372093 0.94811321 0.82291667 1.         0.\n",
      "  1.        ]\n",
      " [0.68275862 0.8        0.9245283  0.73958333 0.         1.\n",
      "  0.        ]\n",
      " [0.87586207 0.86046512 0.94811321 0.92708333 1.         0.\n",
      "  1.        ]\n",
      " [0.7137931  0.86046512 0.95283019 0.80729167 0.         1.\n",
      "  1.        ]\n",
      " [0.64310345 0.95348837 0.93867925 0.78645833 0.         1.\n",
      "  1.        ]\n",
      " [0.65172414 0.85116279 0.82075472 0.70833333 0.         0.\n",
      "  0.        ]\n",
      " [0.5862069  0.79534884 0.87264151 0.70833333 1.         0.\n",
      "  0.        ]\n",
      " [0.73965517 0.81860465 0.9245283  0.97916667 0.         1.\n",
      "  1.        ]\n",
      " [0.62068966 0.79534884 0.88207547 0.77083333 1.         0.\n",
      "  0.        ]\n",
      " [0.82068966 0.85116279 0.91981132 0.80208333 1.         0.\n",
      "  0.        ]\n",
      " [0.80517241 0.83255814 0.91981132 0.6875     1.         0.\n",
      "  0.        ]\n",
      " [0.63103448 0.85581395 0.86792453 0.72395833 1.         0.\n",
      "  0.        ]\n",
      " [0.72586207 0.88837209 0.91981132 0.83333333 0.         1.\n",
      "  1.        ]\n",
      " [0.73275862 0.77674419 0.88207547 0.69791667 1.         0.\n",
      "  0.        ]\n",
      " [0.8362069  0.81395349 0.9009434  0.70833333 1.         0.\n",
      "  1.        ]\n",
      " [0.87758621 0.83255814 0.9245283  0.765625   1.         0.\n",
      "  0.        ]\n",
      " [0.65862069 0.84186047 0.87264151 0.82291667 0.         0.\n",
      "  1.        ]\n",
      " [0.69137931 0.87906977 0.88679245 0.89583333 0.         0.\n",
      "  1.        ]\n",
      " [0.80862069 0.77209302 0.90566038 0.5625     1.         0.\n",
      "  0.        ]\n",
      " [0.65344828 0.86511628 0.91037736 0.609375   0.         0.\n",
      "  0.        ]\n",
      " [0.96206897 0.92093023 0.97641509 0.83333333 1.         0.\n",
      "  1.        ]\n",
      " [0.85517241 0.84651163 0.91037736 0.78645833 1.         0.\n",
      "  1.        ]\n",
      " [0.85862069 0.80465116 0.93396226 0.765625   1.         0.\n",
      "  0.        ]\n",
      " [0.88448276 0.89302326 0.91037736 0.76041667 1.         0.\n",
      "  1.        ]\n",
      " [0.65689655 0.76744186 0.93396226 0.796875   0.         0.\n",
      "  0.        ]\n",
      " [0.67586207 0.98139535 0.9245283  0.86458333 1.         0.\n",
      "  1.        ]\n",
      " [0.68103448 0.77674419 0.83962264 0.67708333 1.         0.\n",
      "  0.        ]\n",
      " [0.91034483 0.93023256 0.96698113 0.94791667 1.         0.\n",
      "  1.        ]\n",
      " [0.65       0.86976744 0.8490566  0.75       0.         0.\n",
      "  1.        ]\n",
      " [0.71206897 0.98139535 0.91981132 0.91666667 0.         0.\n",
      "  1.        ]\n",
      " [0.64310345 0.78139535 0.90566038 0.625      1.         0.\n",
      "  0.        ]\n",
      " [0.81034483 0.80465116 0.87264151 0.77083333 1.         0.\n",
      "  0.        ]\n",
      " [0.74482759 0.86046512 0.90566038 0.85416667 1.         0.\n",
      "  1.        ]\n",
      " [0.73793103 0.86046512 0.91981132 0.88541667 0.         1.\n",
      "  1.        ]\n",
      " [0.85       0.9255814  0.95754717 0.84375    1.         0.\n",
      "  1.        ]\n",
      " [0.89655172 0.88372093 0.92924528 0.86458333 1.         0.\n",
      "  1.        ]\n",
      " [0.79482759 0.84651163 0.83962264 0.67708333 1.         0.\n",
      "  0.        ]\n",
      " [0.65172414 0.93023256 0.89622642 0.88541667 0.         0.\n",
      "  1.        ]\n",
      " [0.61551724 0.8372093  0.95283019 0.73958333 1.         0.\n",
      "  0.        ]\n",
      " [0.65862069 0.93023256 0.89622642 0.8125     0.         0.\n",
      "  1.        ]\n",
      " [0.73275862 0.80465116 0.88207547 0.69791667 1.         0.\n",
      "  0.        ]\n",
      " [0.61206897 0.75348837 0.91981132 0.69791667 0.         0.\n",
      "  0.        ]]\n",
      "[[-1.34082659  2.35505035  0.88068888  1.62029553 -1.14490646  1.80969611\n",
      "   1.01770049]\n",
      " [ 1.80078227  0.5480021   1.30057122  0.57562238  0.8734338  -0.55257896\n",
      "   1.01770049]\n",
      " [-0.40582395 -1.0008964   0.60076732 -0.35297599 -1.14490646  1.80969611\n",
      "  -0.98260737]\n",
      " [ 1.68858195  0.11775252  1.30057122  1.73637033  0.8734338  -0.55257896\n",
      "   1.01770049]\n",
      " [-0.069223    0.11775252  1.440532    0.40151018 -1.14490646  1.80969611\n",
      "   1.01770049]\n",
      " [-0.83592516  1.83875085  1.02064966  0.16936059 -1.14490646  1.80969611\n",
      "   1.01770049]\n",
      " [-0.7424249  -0.05434732 -2.47836983 -0.70120037 -1.14490646 -0.55257896\n",
      "  -0.98260737]\n",
      " [-1.4530269  -1.08694632 -0.93880125 -0.70120037  0.8734338  -0.55257896\n",
      "  -0.98260737]\n",
      " [ 0.21127779 -0.65669673  0.60076732  2.3167443  -1.14490646  1.80969611\n",
      "   1.01770049]\n",
      " [-1.07902585 -1.08694632 -0.65887969 -0.0047516   0.8734338  -0.55257896\n",
      "  -0.98260737]\n",
      " [ 1.09018027 -0.05434732  0.46080654  0.34347279  0.8734338  -0.55257896\n",
      "  -0.98260737]\n",
      " [ 0.92187979 -0.39854698  0.46080654 -0.93334996  0.8734338  -0.55257896\n",
      "  -0.98260737]\n",
      " [-0.96682553  0.0317026  -1.07876203 -0.52708818  0.8734338  -0.55257896\n",
      "  -0.98260737]\n",
      " [ 0.06167737  0.63405202  0.46080654  0.69169717 -1.14490646  1.80969611\n",
      "   1.01770049]\n",
      " [ 0.13647758 -1.43114598 -0.65887969 -0.81727517  0.8734338  -0.55257896\n",
      "  -0.98260737]\n",
      " [ 1.25848074 -0.74274665 -0.09903657 -0.70120037  0.8734338  -0.55257896\n",
      "   1.01770049]\n",
      " [ 1.70728201 -0.39854698  0.60076732 -0.062789    0.8734338  -0.55257896\n",
      "  -0.98260737]\n",
      " [-0.66762469 -0.22644715 -0.93880125  0.57562238 -1.14490646 -0.55257896\n",
      "   1.01770049]\n",
      " [-0.31232369  0.46195218 -0.51891891  1.38814594 -1.14490646 -0.55257896\n",
      "   1.01770049]\n",
      " [ 0.9592799  -1.5171959   0.0409242  -2.3262475   0.8734338  -0.55257896\n",
      "  -0.98260737]\n",
      " [-0.72372485  0.20380243  0.18088498 -1.80391093 -1.14490646 -0.55257896\n",
      "  -0.98260737]\n",
      " [ 2.62358459  1.23640143  2.1403359   0.69169717  0.8734338  -0.55257896\n",
      "   1.01770049]\n",
      " [ 1.46418132 -0.14039723  0.18088498  0.16936059  0.8734338  -0.55257896\n",
      "   1.01770049]\n",
      " [ 1.50158143 -0.91484648  0.88068888 -0.062789    0.8734338  -0.55257896\n",
      "  -0.98260737]\n",
      " [ 1.78208222  0.72010193  0.18088498 -0.1208264   0.8734338  -0.55257896\n",
      "   1.01770049]\n",
      " [-0.68632474 -1.60324582  0.88068888  0.28543539 -1.14490646 -0.55257896\n",
      "  -0.98260737]\n",
      " [-0.48062416  2.35505035  0.60076732  1.03992156  0.8734338  -0.55257896\n",
      "   1.01770049]\n",
      " [-0.424524   -1.43114598 -1.91852671 -1.04942476  0.8734338  -0.55257896\n",
      "  -0.98260737]\n",
      " [ 2.06258301  1.40850127  1.86041434  1.96851992  0.8734338  -0.55257896\n",
      "   1.01770049]\n",
      " [-0.76112495  0.28985235 -1.63860515 -0.23690119 -1.14490646 -0.55257896\n",
      "   1.01770049]\n",
      " [-0.08792305  2.35505035  0.46080654  1.62029553 -1.14490646 -0.55257896\n",
      "   1.01770049]\n",
      " [-0.83592516 -1.34509607  0.0409242  -1.62979873  0.8734338  -0.55257896\n",
      "  -0.98260737]\n",
      " [ 0.97797995 -0.91484648 -0.93880125 -0.0047516   0.8734338  -0.55257896\n",
      "  -0.98260737]\n",
      " [ 0.26737795  0.11775252  0.0409242   0.92384676  0.8734338  -0.55257896\n",
      "   1.01770049]\n",
      " [ 0.19257774  0.11775252  0.46080654  1.27207115 -1.14490646  1.80969611\n",
      "   1.01770049]\n",
      " [ 1.40808116  1.32245135  1.58049278  0.80777197  0.8734338  -0.55257896\n",
      "   1.01770049]\n",
      " [ 1.91298259  0.5480021   0.7407281   1.03992156  0.8734338  -0.55257896\n",
      "   1.01770049]\n",
      " [ 0.80967948 -0.14039723 -1.91852671 -1.04942476  0.8734338  -0.55257896\n",
      "  -0.98260737]\n",
      " [-0.7424249   1.40850127 -0.23899735  1.27207115 -1.14490646 -0.55257896\n",
      "   1.01770049]\n",
      " [-1.13512601 -0.31249707  1.440532   -0.35297599  0.8734338  -0.55257896\n",
      "  -0.98260737]\n",
      " [-0.66762469  1.40850127 -0.23899735  0.45954758 -1.14490646 -0.55257896\n",
      "   1.01770049]\n",
      " [ 0.13647758 -0.91484648 -0.65887969 -0.81727517  0.8734338  -0.55257896\n",
      "  -0.98260737]\n",
      " [-1.17252611 -1.86139557  0.46080654 -0.81727517 -1.14490646 -0.55257896\n",
      "  -0.98260737]]\n"
     ]
    }
   ],
   "source": [
    "# Use the following code to visualize feature scaling before and after normalization.\n",
    "from sklearn.preprocessing import MaxAbsScaler\n",
    "scaler=MaxAbsScaler()\n",
    "X_train_scaled = scaler.fit_transform(X_train)\n",
    "X_test_scaled = scaler.transform(X_test)\n",
    "print(X_test_scaled)\n",
    "\n",
    "from sklearn.preprocessing import StandardScaler\n",
    "scaler=StandardScaler()\n",
    "X_train_scaled = scaler.fit_transform(X_train)\n",
    "X_test_scaled = scaler.transform(X_test)\n",
    "print(X_test_scaled)"
   ]
  },
  {
   "cell_type": "markdown",
   "metadata": {},
   "source": [
    "What can you observe in the values related to \"island_Dream\",    \"island_Torgersen\"  and   \"sex_Male\" features before and after scaling?\n",
    "- For binary features like \"island_Dream,\" \"island_Torgersen,\" and \"sex_Male,\" MaxAbsScaler will scale the values to be within the range [0, 1] since they are already binary (0 or 1). After scaling, these binary features will retain their 0 or 1 values because the maximum absolute value for these features is 1. So, there may not be a noticeable difference in these features before and after scaling when using MaxAbsScaler.\n",
    "- StandardScaler to binary features like \"island_Dream,\" \"island_Torgersen,\" and \"sex_Male,\" they may become centered around 0, which means they could have values around -0.5 and 0.5 instead of 0 and 1. This transformation might not be suitable for binary features because it can disrupt their original interpretation."
   ]
  }
 ],
 "metadata": {
  "kernelspec": {
   "display_name": "Python 3",
   "language": "python",
   "name": "python3"
  },
  "language_info": {
   "codemirror_mode": {
    "name": "ipython",
    "version": 3
   },
   "file_extension": ".py",
   "mimetype": "text/x-python",
   "name": "python",
   "nbconvert_exporter": "python",
   "pygments_lexer": "ipython3",
   "version": "3.11.4"
  },
  "orig_nbformat": 4
 },
 "nbformat": 4,
 "nbformat_minor": 2
}
